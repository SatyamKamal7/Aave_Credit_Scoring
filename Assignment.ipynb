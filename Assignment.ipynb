{
 "cells": [
  {
   "cell_type": "code",
   "execution_count": 1,
   "id": "7432a526-30f8-4a6b-9a8f-428a9ac8dbf4",
   "metadata": {},
   "outputs": [],
   "source": [
    "from collections import defaultdict\n",
    "import json\n",
    "import pandas as pd"
   ]
  },
  {
   "cell_type": "code",
   "execution_count": 3,
   "id": "4b9609b7-ca35-4bed-afa8-d71b42eeb5af",
   "metadata": {},
   "outputs": [],
   "source": [
    "with open(\"user-wallet-transactions.json\", \"r\") as f:\n",
    "    data = json.load(f)"
   ]
  },
  {
   "cell_type": "code",
   "execution_count": 17,
   "id": "a1abbc75-6b7e-47b3-a191-b58d93263a7d",
   "metadata": {},
   "outputs": [],
   "source": [
    "wallet_stats = defaultdict(lambda: {\n",
    "    'num_transactions': 0,\n",
    "    'num_deposit': 0,\n",
    "    'num_borrow': 0,\n",
    "    'num_repay': 0,\n",
    "    'num_liquidationcall': 0,\n",
    "    'num_redeemunderlying': 0,\n",
    "    'total_deposit_usd': 0.0,\n",
    "    'total_borrow_usd': 0.0,\n",
    "    'total_repay_usd': 0.0,\n",
    "    'first_tx': float('inf'),\n",
    "    'last_tx': float('-inf')\n",
    "})"
   ]
  },
  {
   "cell_type": "code",
   "execution_count": 19,
   "id": "7724b04b-35e6-4fe1-9357-623683964674",
   "metadata": {},
   "outputs": [],
   "source": [
    "for tx in data:\n",
    "    wallet = tx['userWallet']\n",
    "    action = tx['action'].lower()\n",
    "    timestamp = tx['timestamp']\n",
    "\n",
    "    # Parse USD value\n",
    "    try:\n",
    "        amount = float(tx['actionData']['amount'])\n",
    "        price = float(tx['actionData'].get('assetPriceUSD', 0))\n",
    "        usd_value = amount * price\n",
    "    except (KeyError, ValueError, TypeError):\n",
    "        usd_value = 0.0\n",
    "\n",
    "    # Update counts and totals\n",
    "    wallet_stats[wallet]['num_transactions'] += 1\n",
    "    action_key = f'num_{action}'\n",
    "    if action_key not in wallet_stats[wallet]:\n",
    "       wallet_stats[wallet][action_key] = 0\n",
    "       wallet_stats[wallet][action_key] += 1\n",
    "\n",
    "    if action == 'deposit':\n",
    "        wallet_stats[wallet]['total_deposit_usd'] += usd_value\n",
    "    elif action == 'borrow':\n",
    "        wallet_stats[wallet]['total_borrow_usd'] += usd_value\n",
    "    elif action == 'repay':\n",
    "        wallet_stats[wallet]['total_repay_usd'] += usd_value\n",
    "\n",
    "    # Track activity\n",
    "    wallet_stats[wallet]['first_tx'] = min(wallet_stats[wallet]['first_tx'], timestamp)\n",
    "    wallet_stats[wallet]['last_tx'] = max(wallet_stats[wallet]['last_tx'], timestamp)"
   ]
  },
  {
   "cell_type": "code",
   "execution_count": 21,
   "id": "3dc22f4b-fab9-4e1d-a9d1-008da3ff9531",
   "metadata": {},
   "outputs": [
    {
     "name": "stdout",
     "output_type": "stream",
     "text": [
      "Saved wallet_features.csv with extracted features.\n"
     ]
    }
   ],
   "source": [
    "df = pd.DataFrame.from_dict(wallet_stats, orient='index')\n",
    "df.index.name = 'userWallet'\n",
    "df.reset_index(inplace=True)\n",
    "\n",
    "# Add additional derived features\n",
    "df['deposit_to_borrow_ratio'] = df['total_deposit_usd'] / (df['total_borrow_usd'] + 1e-6)\n",
    "df['repay_to_borrow_ratio'] = df['total_repay_usd'] / (df['total_borrow_usd'] + 1e-6)\n",
    "df['active_days'] = (df['last_tx'] - df['first_tx']) / 86400 + 1\n",
    "df['avg_tx_per_day'] = df['num_transactions'] / df['active_days']\n",
    "\n",
    "df.to_csv(\"wallet_features.csv\", index=False)\n",
    "print(\"Saved wallet_features.csv with extracted features.\")"
   ]
  },
  {
   "cell_type": "code",
   "execution_count": 23,
   "id": "0c076321-7738-4622-8706-749372ccaa34",
   "metadata": {},
   "outputs": [],
   "source": [
    "from sklearn.preprocessing import MinMaxScaler"
   ]
  },
  {
   "cell_type": "code",
   "execution_count": 31,
   "id": "4a282d60-b854-4207-a703-1418b3ab51e6",
   "metadata": {},
   "outputs": [
    {
     "name": "stdout",
     "output_type": "stream",
     "text": [
      "✅ Saved wallet_credit_scores.csv with credit scores.\n",
      "                                   userWallet  creditScore\n",
      "0  0x00000000001accfa9cef68cf5371a23025b6d4b6            0\n",
      "1  0x000000000051d07a4fb3bd10121a343d85818da6            0\n",
      "2  0x000000000096026fb41fc39f9875d164bd82e2dc            0\n",
      "3  0x0000000000e189dd664b9ab08a33c4839953852c            0\n",
      "4  0x0000000002032370b971dabd36d72f3e5a7bf1ee            2\n",
      "5  0x000000000a38444e0a6e37d3b630d7e855a7cb13            0\n",
      "6  0x000000003853fcedcd0355fec98ca3192833f00b            0\n",
      "7  0x000000003ce0cf2c037493b1dc087204bd7f713e            3\n",
      "8  0x000000007858e6f2668e1e06111cfa24403a5466            0\n",
      "9  0x00000001a0f57e850c9db68b4a9bc34677437c5c            0\n"
     ]
    }
   ],
   "source": [
    "features = [\n",
    "    'total_deposit_usd',\n",
    "    'total_borrow_usd',\n",
    "    'total_repay_usd',\n",
    "    'deposit_to_borrow_ratio',\n",
    "    'repay_to_borrow_ratio',\n",
    "    'avg_tx_per_day'\n",
    "]\n",
    "\n",
    "# Replace infinite or NaN values\n",
    "df.replace([float('inf'), -float('inf')], 0, inplace=True)\n",
    "df.fillna(0, inplace=True)\n",
    "scaler = MinMaxScaler()\n",
    "scaled = scaler.fit_transform(df[features])\n",
    "weights = [0.2, 0.1, 0.2, 0.15, 0.25, 0.1]\n",
    "df['raw_score'] = (scaled * weights).sum(axis=1)\n",
    "\n",
    "# Penalize\n",
    "df['penalty'] = df['num_liquidationcall'].apply(lambda x: 0.5 if x > 0 else 1.0)\n",
    "\n",
    "# Final score scaled to 0–1000\n",
    "df['creditScore'] = (df['raw_score'] * df['penalty']) * 1000\n",
    "df['creditScore'] = df['creditScore'].clip(0, 1000).astype(int)\n",
    "\n",
    "df[['userWallet', 'creditScore']].to_csv(\"wallet_credit_scores.csv\", index=False)\n",
    "print(\"✅ Saved wallet_credit_scores.csv with credit scores.\")\n",
    "print(df[['userWallet', 'creditScore']].head(10))"
   ]
  },
  {
   "cell_type": "code",
   "execution_count": null,
   "id": "88c36f98-0302-4c9c-8a8d-a26478a28c1d",
   "metadata": {},
   "outputs": [],
   "source": []
  }
 ],
 "metadata": {
  "kernelspec": {
   "display_name": "Python 3 (ipykernel)",
   "language": "python",
   "name": "python3"
  },
  "language_info": {
   "codemirror_mode": {
    "name": "ipython",
    "version": 3
   },
   "file_extension": ".py",
   "mimetype": "text/x-python",
   "name": "python",
   "nbconvert_exporter": "python",
   "pygments_lexer": "ipython3",
   "version": "3.12.7"
  }
 },
 "nbformat": 4,
 "nbformat_minor": 5
}
